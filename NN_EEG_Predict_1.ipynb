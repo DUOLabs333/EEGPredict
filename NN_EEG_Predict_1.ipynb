{
  "nbformat": 4,
  "nbformat_minor": 0,
  "metadata": {
    "colab": {
      "name": "NN_EEG_Predict_1.ipynb",
      "provenance": [],
      "collapsed_sections": [],
      "authorship_tag": "ABX9TyOaBPErG8+BJvwHxz/gtsqV",
      "include_colab_link": true
    },
    "kernelspec": {
      "name": "python3",
      "display_name": "Python 3"
    },
    "accelerator": "TPU"
  },
  "cells": [
    {
      "cell_type": "markdown",
      "metadata": {
        "id": "view-in-github",
        "colab_type": "text"
      },
      "source": [
        "<a href=\"https://colab.research.google.com/github/DavidUgoOmenukwa/EEGPredict/blob/master/NN_EEG_Predict_1.ipynb\" target=\"_parent\"><img src=\"https://colab.research.google.com/assets/colab-badge.svg\" alt=\"Open In Colab\"/></a>"
      ]
    },
    {
      "cell_type": "code",
      "metadata": {
        "id": "08pxzlElqWj7",
        "colab_type": "code",
        "colab": {
          "base_uri": "https://localhost:8080/",
          "height": 34
        },
        "outputId": "b9b6b7ea-3cef-491b-f8be-e4cf4b9d4d35"
      },
      "source": [
        "import pickle\n",
        "import pandas as pd\n",
        "import numpy as np\n",
        "import ast\n",
        "from google.colab import drive\n",
        "import tensorflow as tf\n",
        "from tensorflow import keras\n",
        "from tensorflow.keras import layers\n",
        "from sklearn.model_selection import train_test_split\n",
        "import matplotlib.pyplot as plt\n",
        "\n",
        "drive.mount('/content/gdrive')"
      ],
      "execution_count": null,
      "outputs": [
        {
          "output_type": "stream",
          "text": [
            "Drive already mounted at /content/gdrive; to attempt to forcibly remount, call drive.mount(\"/content/gdrive\", force_remount=True).\n"
          ],
          "name": "stdout"
        }
      ]
    },
    {
      "cell_type": "code",
      "metadata": {
        "id": "2iJ1NF-sqgax",
        "colab_type": "code",
        "colab": {}
      },
      "source": [
        "def from_np_array(array_string):\n",
        "    array_string = ','.join(array_string.replace('[ ', '[').split())\n",
        "    return np.array(ast.literal_eval(array_string))"
      ],
      "execution_count": null,
      "outputs": []
    },
    {
      "cell_type": "code",
      "metadata": {
        "id": "f-oXNWPstsJB",
        "colab_type": "code",
        "colab": {
          "base_uri": "https://localhost:8080/",
          "height": 748
        },
        "outputId": "f0d1c040-3842-4282-be45-343298f0c557"
      },
      "source": [
        "tpu = tf.distribute.cluster_resolver.TPUClusterResolver()\n",
        "tf.config.experimental_connect_to_cluster(tpu)\n",
        "tf.tpu.experimental.initialize_tpu_system(tpu)\n",
        "tpu_strategy = tf.distribute.experimental.TPUStrategy(tpu)"
      ],
      "execution_count": null,
      "outputs": [
        {
          "output_type": "stream",
          "text": [
            "WARNING:tensorflow:TPU system grpc://10.117.71.242:8470 has already been initialized. Reinitializing the TPU can cause previously created variables on TPU to be lost.\n"
          ],
          "name": "stdout"
        },
        {
          "output_type": "stream",
          "text": [
            "WARNING:tensorflow:TPU system grpc://10.117.71.242:8470 has already been initialized. Reinitializing the TPU can cause previously created variables on TPU to be lost.\n"
          ],
          "name": "stderr"
        },
        {
          "output_type": "stream",
          "text": [
            "INFO:tensorflow:Initializing the TPU system: grpc://10.117.71.242:8470\n"
          ],
          "name": "stdout"
        },
        {
          "output_type": "stream",
          "text": [
            "INFO:tensorflow:Initializing the TPU system: grpc://10.117.71.242:8470\n"
          ],
          "name": "stderr"
        },
        {
          "output_type": "stream",
          "text": [
            "INFO:tensorflow:Clearing out eager caches\n"
          ],
          "name": "stdout"
        },
        {
          "output_type": "stream",
          "text": [
            "INFO:tensorflow:Clearing out eager caches\n"
          ],
          "name": "stderr"
        },
        {
          "output_type": "stream",
          "text": [
            "INFO:tensorflow:Finished initializing TPU system.\n"
          ],
          "name": "stdout"
        },
        {
          "output_type": "stream",
          "text": [
            "INFO:tensorflow:Finished initializing TPU system.\n",
            "WARNING:absl:`tf.distribute.experimental.TPUStrategy` is deprecated, please use  the non experimental symbol `tf.distribute.TPUStrategy` instead.\n"
          ],
          "name": "stderr"
        },
        {
          "output_type": "stream",
          "text": [
            "INFO:tensorflow:Found TPU system:\n"
          ],
          "name": "stdout"
        },
        {
          "output_type": "stream",
          "text": [
            "INFO:tensorflow:Found TPU system:\n"
          ],
          "name": "stderr"
        },
        {
          "output_type": "stream",
          "text": [
            "INFO:tensorflow:*** Num TPU Cores: 8\n"
          ],
          "name": "stdout"
        },
        {
          "output_type": "stream",
          "text": [
            "INFO:tensorflow:*** Num TPU Cores: 8\n"
          ],
          "name": "stderr"
        },
        {
          "output_type": "stream",
          "text": [
            "INFO:tensorflow:*** Num TPU Workers: 1\n"
          ],
          "name": "stdout"
        },
        {
          "output_type": "stream",
          "text": [
            "INFO:tensorflow:*** Num TPU Workers: 1\n"
          ],
          "name": "stderr"
        },
        {
          "output_type": "stream",
          "text": [
            "INFO:tensorflow:*** Num TPU Cores Per Worker: 8\n"
          ],
          "name": "stdout"
        },
        {
          "output_type": "stream",
          "text": [
            "INFO:tensorflow:*** Num TPU Cores Per Worker: 8\n"
          ],
          "name": "stderr"
        },
        {
          "output_type": "stream",
          "text": [
            "INFO:tensorflow:*** Available Device: _DeviceAttributes(/job:localhost/replica:0/task:0/device:CPU:0, CPU, 0, 0)\n"
          ],
          "name": "stdout"
        },
        {
          "output_type": "stream",
          "text": [
            "INFO:tensorflow:*** Available Device: _DeviceAttributes(/job:localhost/replica:0/task:0/device:CPU:0, CPU, 0, 0)\n"
          ],
          "name": "stderr"
        },
        {
          "output_type": "stream",
          "text": [
            "INFO:tensorflow:*** Available Device: _DeviceAttributes(/job:localhost/replica:0/task:0/device:XLA_CPU:0, XLA_CPU, 0, 0)\n"
          ],
          "name": "stdout"
        },
        {
          "output_type": "stream",
          "text": [
            "INFO:tensorflow:*** Available Device: _DeviceAttributes(/job:localhost/replica:0/task:0/device:XLA_CPU:0, XLA_CPU, 0, 0)\n"
          ],
          "name": "stderr"
        },
        {
          "output_type": "stream",
          "text": [
            "INFO:tensorflow:*** Available Device: _DeviceAttributes(/job:worker/replica:0/task:0/device:CPU:0, CPU, 0, 0)\n"
          ],
          "name": "stdout"
        },
        {
          "output_type": "stream",
          "text": [
            "INFO:tensorflow:*** Available Device: _DeviceAttributes(/job:worker/replica:0/task:0/device:CPU:0, CPU, 0, 0)\n"
          ],
          "name": "stderr"
        },
        {
          "output_type": "stream",
          "text": [
            "INFO:tensorflow:*** Available Device: _DeviceAttributes(/job:worker/replica:0/task:0/device:TPU:0, TPU, 0, 0)\n"
          ],
          "name": "stdout"
        },
        {
          "output_type": "stream",
          "text": [
            "INFO:tensorflow:*** Available Device: _DeviceAttributes(/job:worker/replica:0/task:0/device:TPU:0, TPU, 0, 0)\n"
          ],
          "name": "stderr"
        },
        {
          "output_type": "stream",
          "text": [
            "INFO:tensorflow:*** Available Device: _DeviceAttributes(/job:worker/replica:0/task:0/device:TPU:1, TPU, 0, 0)\n"
          ],
          "name": "stdout"
        },
        {
          "output_type": "stream",
          "text": [
            "INFO:tensorflow:*** Available Device: _DeviceAttributes(/job:worker/replica:0/task:0/device:TPU:1, TPU, 0, 0)\n"
          ],
          "name": "stderr"
        },
        {
          "output_type": "stream",
          "text": [
            "INFO:tensorflow:*** Available Device: _DeviceAttributes(/job:worker/replica:0/task:0/device:TPU:2, TPU, 0, 0)\n"
          ],
          "name": "stdout"
        },
        {
          "output_type": "stream",
          "text": [
            "INFO:tensorflow:*** Available Device: _DeviceAttributes(/job:worker/replica:0/task:0/device:TPU:2, TPU, 0, 0)\n"
          ],
          "name": "stderr"
        },
        {
          "output_type": "stream",
          "text": [
            "INFO:tensorflow:*** Available Device: _DeviceAttributes(/job:worker/replica:0/task:0/device:TPU:3, TPU, 0, 0)\n"
          ],
          "name": "stdout"
        },
        {
          "output_type": "stream",
          "text": [
            "INFO:tensorflow:*** Available Device: _DeviceAttributes(/job:worker/replica:0/task:0/device:TPU:3, TPU, 0, 0)\n"
          ],
          "name": "stderr"
        },
        {
          "output_type": "stream",
          "text": [
            "INFO:tensorflow:*** Available Device: _DeviceAttributes(/job:worker/replica:0/task:0/device:TPU:4, TPU, 0, 0)\n"
          ],
          "name": "stdout"
        },
        {
          "output_type": "stream",
          "text": [
            "INFO:tensorflow:*** Available Device: _DeviceAttributes(/job:worker/replica:0/task:0/device:TPU:4, TPU, 0, 0)\n"
          ],
          "name": "stderr"
        },
        {
          "output_type": "stream",
          "text": [
            "INFO:tensorflow:*** Available Device: _DeviceAttributes(/job:worker/replica:0/task:0/device:TPU:5, TPU, 0, 0)\n"
          ],
          "name": "stdout"
        },
        {
          "output_type": "stream",
          "text": [
            "INFO:tensorflow:*** Available Device: _DeviceAttributes(/job:worker/replica:0/task:0/device:TPU:5, TPU, 0, 0)\n"
          ],
          "name": "stderr"
        },
        {
          "output_type": "stream",
          "text": [
            "INFO:tensorflow:*** Available Device: _DeviceAttributes(/job:worker/replica:0/task:0/device:TPU:6, TPU, 0, 0)\n"
          ],
          "name": "stdout"
        },
        {
          "output_type": "stream",
          "text": [
            "INFO:tensorflow:*** Available Device: _DeviceAttributes(/job:worker/replica:0/task:0/device:TPU:6, TPU, 0, 0)\n"
          ],
          "name": "stderr"
        },
        {
          "output_type": "stream",
          "text": [
            "INFO:tensorflow:*** Available Device: _DeviceAttributes(/job:worker/replica:0/task:0/device:TPU:7, TPU, 0, 0)\n"
          ],
          "name": "stdout"
        },
        {
          "output_type": "stream",
          "text": [
            "INFO:tensorflow:*** Available Device: _DeviceAttributes(/job:worker/replica:0/task:0/device:TPU:7, TPU, 0, 0)\n"
          ],
          "name": "stderr"
        },
        {
          "output_type": "stream",
          "text": [
            "INFO:tensorflow:*** Available Device: _DeviceAttributes(/job:worker/replica:0/task:0/device:TPU_SYSTEM:0, TPU_SYSTEM, 0, 0)\n"
          ],
          "name": "stdout"
        },
        {
          "output_type": "stream",
          "text": [
            "INFO:tensorflow:*** Available Device: _DeviceAttributes(/job:worker/replica:0/task:0/device:TPU_SYSTEM:0, TPU_SYSTEM, 0, 0)\n"
          ],
          "name": "stderr"
        },
        {
          "output_type": "stream",
          "text": [
            "INFO:tensorflow:*** Available Device: _DeviceAttributes(/job:worker/replica:0/task:0/device:XLA_CPU:0, XLA_CPU, 0, 0)\n"
          ],
          "name": "stdout"
        },
        {
          "output_type": "stream",
          "text": [
            "INFO:tensorflow:*** Available Device: _DeviceAttributes(/job:worker/replica:0/task:0/device:XLA_CPU:0, XLA_CPU, 0, 0)\n"
          ],
          "name": "stderr"
        }
      ]
    },
    {
      "cell_type": "code",
      "metadata": {
        "id": "XyIndeqQqjFF",
        "colab_type": "code",
        "colab": {
          "base_uri": "https://localhost:8080/",
          "height": 949
        },
        "outputId": "8eff8765-6e7d-4883-e1e8-c66b01a92841"
      },
      "source": [
        "File= '/content/gdrive/My Drive/Colab Notebooks/EEG FFT.csv'\n",
        "# File= '/content/gdrive/My Drive/Colab Notebooks/EEG Database.csv'\n",
        "\n",
        "EEG_df=pd.read_csv(File,converters={'Fp1': from_np_array, 'AF3': from_np_array, 'F3': from_np_array, 'F7': from_np_array, \n",
        "                                        'FC5': from_np_array, 'FC1': from_np_array, 'C3': from_np_array, 'T7': from_np_array, \n",
        "                                        'CP5': from_np_array, 'CP1': from_np_array, 'P3': from_np_array, 'P7': from_np_array, \n",
        "                                        'PO3': from_np_array, 'O1': from_np_array, 'Oz': from_np_array, 'Pz': from_np_array, \n",
        "                                        'Fp2': from_np_array, 'AF4': from_np_array, 'Fz': from_np_array, 'F4': from_np_array, \n",
        "                                        'F8': from_np_array, 'FC6': from_np_array, 'FC2': from_np_array, 'Cz': from_np_array, \n",
        "                                        'C4': from_np_array, 'T8': from_np_array, 'CP6': from_np_array, 'CP2': from_np_array, \n",
        "                                        'P4': from_np_array, 'P8': from_np_array, 'PO4': from_np_array, 'O2': from_np_array})\n",
        "\n",
        "EEG_df"
      ],
      "execution_count": null,
      "outputs": [
        {
          "output_type": "execute_result",
          "data": {
            "text/html": [
              "<div>\n",
              "<style scoped>\n",
              "    .dataframe tbody tr th:only-of-type {\n",
              "        vertical-align: middle;\n",
              "    }\n",
              "\n",
              "    .dataframe tbody tr th {\n",
              "        vertical-align: top;\n",
              "    }\n",
              "\n",
              "    .dataframe thead th {\n",
              "        text-align: right;\n",
              "    }\n",
              "</style>\n",
              "<table border=\"1\" class=\"dataframe\">\n",
              "  <thead>\n",
              "    <tr style=\"text-align: right;\">\n",
              "      <th></th>\n",
              "      <th>Fp1</th>\n",
              "      <th>AF3</th>\n",
              "      <th>F3</th>\n",
              "      <th>F7</th>\n",
              "      <th>FC5</th>\n",
              "      <th>FC1</th>\n",
              "      <th>C3</th>\n",
              "      <th>T7</th>\n",
              "      <th>CP5</th>\n",
              "      <th>CP1</th>\n",
              "      <th>P3</th>\n",
              "      <th>P7</th>\n",
              "      <th>PO3</th>\n",
              "      <th>O1</th>\n",
              "      <th>Oz</th>\n",
              "      <th>Pz</th>\n",
              "      <th>Fp2</th>\n",
              "      <th>AF4</th>\n",
              "      <th>Fz</th>\n",
              "      <th>F4</th>\n",
              "      <th>F8</th>\n",
              "      <th>FC6</th>\n",
              "      <th>FC2</th>\n",
              "      <th>Cz</th>\n",
              "      <th>C4</th>\n",
              "      <th>T8</th>\n",
              "      <th>CP6</th>\n",
              "      <th>CP2</th>\n",
              "      <th>P4</th>\n",
              "      <th>P8</th>\n",
              "      <th>PO4</th>\n",
              "      <th>O2</th>\n",
              "      <th>Valence</th>\n",
              "      <th>Arousal</th>\n",
              "      <th>Dominance</th>\n",
              "      <th>Liking</th>\n",
              "    </tr>\n",
              "  </thead>\n",
              "  <tbody>\n",
              "    <tr>\n",
              "      <th>0</th>\n",
              "      <td>[0.00557249325, 0.000200506207, 0.140677611, 8...</td>\n",
              "      <td>[0.00439591904, 0.000265199228, 0.314682424, 1...</td>\n",
              "      <td>[0.000443332862, 0.000178199585, 0.141694368, ...</td>\n",
              "      <td>[0.00286159603, 9.78117839e-05, 0.149126164, 8...</td>\n",
              "      <td>[0.00233068033, 0.000170056848, 0.188080143, 6...</td>\n",
              "      <td>[0.00155980916, 0.000203196626, 0.156015515, 8...</td>\n",
              "      <td>[0.00629762289, 0.000114359004, 0.116146828, 7...</td>\n",
              "      <td>[0.00487731318, 3.98838225e-05, 0.057278818, 4...</td>\n",
              "      <td>[0.00231800447, 3.35993999e-05, 0.0610734662, ...</td>\n",
              "      <td>[0.00398008746, 1.72149798e-05, 0.0968203846, ...</td>\n",
              "      <td>[0.00422226113, 5.23542851e-05, 0.0540029317, ...</td>\n",
              "      <td>[0.000273887438, 0.000111360303, 0.028034216, ...</td>\n",
              "      <td>[0.00313231167, 0.000142901761, 0.107377764, 7...</td>\n",
              "      <td>[0.0018014676, 0.00019506431, 0.113732783, 7.7...</td>\n",
              "      <td>[0.00250008684, 0.000393590297, 0.349604667, 1...</td>\n",
              "      <td>[0.004345188, 0.00010447619, 0.163398527, 3.86...</td>\n",
              "      <td>[0.00309085242, 0.000132625222, 0.0750850592, ...</td>\n",
              "      <td>[0.00155926663, 9.72907537e-05, 0.0761921251, ...</td>\n",
              "      <td>[0.00268630019, 0.00015707912, 0.128928682, 7....</td>\n",
              "      <td>[0.00595744432, 0.000114129789, 0.0521073155, ...</td>\n",
              "      <td>[0.00261387622, 0.000108488139, 0.0880956604, ...</td>\n",
              "      <td>[0.00112714158, 3.60342835e-05, 0.0767776613, ...</td>\n",
              "      <td>[0.00082318729, 0.00011962819, 0.0780606797, 6...</td>\n",
              "      <td>[0.00355958444, 7.81091718e-05, 0.123225571, 5...</td>\n",
              "      <td>[0.000209366532, 4.66782206e-05, 0.0211068637,...</td>\n",
              "      <td>[0.00281378834, 4.56237567e-05, 0.078544298, 4...</td>\n",
              "      <td>[0.00220543379, 6.307321e-05, 0.0650410038, 3....</td>\n",
              "      <td>[0.002574484, 7.01240779e-05, 0.158369349, 1.9...</td>\n",
              "      <td>[0.00831164992, 0.000142002892, 0.196052437, 5...</td>\n",
              "      <td>[0.00480736028, 0.000116793408, 0.125690674, 5...</td>\n",
              "      <td>[0.00794321141, 0.000285789461, 0.262544955, 9...</td>\n",
              "      <td>[0.00275548949, 0.000403031532, 0.316317146, 1...</td>\n",
              "      <td>7.71</td>\n",
              "      <td>7.60</td>\n",
              "      <td>6.90</td>\n",
              "      <td>7.83</td>\n",
              "    </tr>\n",
              "    <tr>\n",
              "      <th>1</th>\n",
              "      <td>[0.00180417486, 1.46540967e-05, 0.0213307629, ...</td>\n",
              "      <td>[0.0122925148, 7.31427473e-05, 0.0813675539, 5...</td>\n",
              "      <td>[0.0100653097, 6.85961736e-05, 0.0897300142, 5...</td>\n",
              "      <td>[0.00252761899, 3.93320818e-05, 0.0231481985, ...</td>\n",
              "      <td>[0.0100736079, 0.000109828471, 0.159282831, 4....</td>\n",
              "      <td>[0.00174705191, 7.88472421e-05, 0.312272096, 3...</td>\n",
              "      <td>[0.00596412698, 0.000117336516, 0.216582659, 8...</td>\n",
              "      <td>[0.00320277627, 6.78160077e-05, 0.213056664, 7...</td>\n",
              "      <td>[0.000869784158, 6.08235912e-05, 0.302127888, ...</td>\n",
              "      <td>[0.00307434089, 2.30351947e-05, 0.0759467908, ...</td>\n",
              "      <td>[0.0125380257, 6.91607979e-05, 0.0865696168, 5...</td>\n",
              "      <td>[0.00265909103, 5.22960242e-06, 0.0772064732, ...</td>\n",
              "      <td>[0.00193278829, 3.66214566e-05, 0.172324903, 3...</td>\n",
              "      <td>[0.0039873594, 3.78161057e-05, 0.36820533, 4.4...</td>\n",
              "      <td>[0.0115351585, 5.15358277e-05, 0.344595558, 5....</td>\n",
              "      <td>[0.00622983224, 2.93897274e-05, 0.0570463821, ...</td>\n",
              "      <td>[0.0234209935, 0.000126591142, 0.0763807327, 8...</td>\n",
              "      <td>[0.000803508405, 7.82871574e-05, 0.467409181, ...</td>\n",
              "      <td>[0.00935705549, 2.68978642e-05, 0.133598623, 4...</td>\n",
              "      <td>[0.021788088, 9.12703043e-05, 0.270744666, 7.4...</td>\n",
              "      <td>[0.00873905926, 8.52541925e-05, 0.0819915794, ...</td>\n",
              "      <td>[0.0034465189, 3.44886622e-05, 0.166297568, 3....</td>\n",
              "      <td>[0.0208523865, 5.22066757e-05, 0.101872982, 3....</td>\n",
              "      <td>[0.00113328427, 2.05503269e-05, 0.115238738, 3...</td>\n",
              "      <td>[0.00377264669, 0.000105534996, 0.403582973, 5...</td>\n",
              "      <td>[0.0106124386, 0.000121982014, 0.338835951, 6....</td>\n",
              "      <td>[0.00232504148, 5.70865824e-05, 0.0704116496, ...</td>\n",
              "      <td>[0.00469606477, 5.13690756e-05, 0.060278063, 4...</td>\n",
              "      <td>[0.024497996, 0.000171002623, 0.257103405, 9.6...</td>\n",
              "      <td>[0.00525660249, 4.50077935e-05, 0.0426325922, ...</td>\n",
              "      <td>[0.0190213426, 0.000108141402, 0.172713999, 7....</td>\n",
              "      <td>[0.0145048164, 7.5769037e-05, 0.181707459, 5.4...</td>\n",
              "      <td>8.10</td>\n",
              "      <td>7.31</td>\n",
              "      <td>7.28</td>\n",
              "      <td>8.47</td>\n",
              "    </tr>\n",
              "    <tr>\n",
              "      <th>2</th>\n",
              "      <td>[0.00362454712, 2.62833574e-05, 0.052307487, 3...</td>\n",
              "      <td>[0.000578736647, 3.88530109e-05, 0.0818240875,...</td>\n",
              "      <td>[0.000353000091, 3.11016325e-05, 0.105950257, ...</td>\n",
              "      <td>[0.00296156131, 2.42596318e-05, 0.0429336008, ...</td>\n",
              "      <td>[0.000718778973, 2.8392146e-05, 0.0579941331, ...</td>\n",
              "      <td>[0.0022146879, 0.00011487425, 0.0449053838, 4....</td>\n",
              "      <td>[0.00559270317, 3.15955277e-05, 0.01224938, 1....</td>\n",
              "      <td>[0.00029977172, 6.78615254e-06, 0.00778007, 1....</td>\n",
              "      <td>[0.00290777552, 1.42178837e-05, 0.0135823017, ...</td>\n",
              "      <td>[0.00880433158, 8.01718108e-05, 0.0919889566, ...</td>\n",
              "      <td>[0.00523962456, 1.91339382e-05, 0.150371894, 2...</td>\n",
              "      <td>[0.00127478868, 1.19789828e-05, 0.0276269046, ...</td>\n",
              "      <td>[0.00192588289, 3.6362078e-05, 0.0835697329, 3...</td>\n",
              "      <td>[0.0034745344, 2.99143804e-05, 0.0248655531, 3...</td>\n",
              "      <td>[0.000895815307, 3.85528236e-05, 0.0748944444,...</td>\n",
              "      <td>[0.000456702372, 3.37176528e-05, 0.0511686799,...</td>\n",
              "      <td>[0.00335524519, 2.80105383e-05, 0.0716102351, ...</td>\n",
              "      <td>[0.00226035331, 4.90149029e-05, 0.0585103454, ...</td>\n",
              "      <td>[0.00102890168, 4.82173711e-05, 0.157621183, 4...</td>\n",
              "      <td>[0.00176418857, 2.94870249e-05, 0.133331579, 3...</td>\n",
              "      <td>[0.00419774123, 5.62680912e-05, 0.105939392, 2...</td>\n",
              "      <td>[0.00157193417, 3.17552035e-05, 0.0378639897, ...</td>\n",
              "      <td>[0.00523344892, 6.4145042e-05, 0.202129584, 4....</td>\n",
              "      <td>[0.00413901383, 6.394788e-05, 0.0277045941, 3....</td>\n",
              "      <td>[0.00180996061, 1.36591494e-05, 0.00691396027,...</td>\n",
              "      <td>[0.00890935579, 6.65209637e-05, 0.0105974731, ...</td>\n",
              "      <td>[0.00605993247, 9.41892747e-05, 0.0651254032, ...</td>\n",
              "      <td>[0.00694760267, 6.69482597e-05, 0.0133734811, ...</td>\n",
              "      <td>[0.000779007792, 3.20974222e-05, 0.12443354, 1...</td>\n",
              "      <td>[0.00590630334, 5.89163471e-05, 0.0409918431, ...</td>\n",
              "      <td>[0.000317362681, 4.44396329e-05, 0.131443496, ...</td>\n",
              "      <td>[0.00012587135, 3.73370571e-05, 0.0919490679, ...</td>\n",
              "      <td>8.58</td>\n",
              "      <td>7.54</td>\n",
              "      <td>9.00</td>\n",
              "      <td>7.08</td>\n",
              "    </tr>\n",
              "    <tr>\n",
              "      <th>3</th>\n",
              "      <td>[0.00357029108, 2.30702258e-05, 0.0340192819, ...</td>\n",
              "      <td>[0.0023770896, 9.55954777e-06, 0.0220308205, 3...</td>\n",
              "      <td>[0.00358143742, 3.33798278e-05, 0.0316382858, ...</td>\n",
              "      <td>[0.00898554767, 2.40029083e-05, 0.0675853901, ...</td>\n",
              "      <td>[0.0114469672, 9.44635227e-05, 0.102440429, 4....</td>\n",
              "      <td>[0.00181378901, 0.000158233093, 0.57104725, 6....</td>\n",
              "      <td>[0.00328786173, 3.75776057e-05, 0.220987006, 5...</td>\n",
              "      <td>[0.00217933809, 2.88578903e-05, 0.0283834867, ...</td>\n",
              "      <td>[0.00614079871, 0.000106369723, 0.0632020235, ...</td>\n",
              "      <td>[0.00715469474, 5.02933339e-05, 0.224518702, 8...</td>\n",
              "      <td>[0.00190277591, 3.76217844e-05, 0.19393129, 3....</td>\n",
              "      <td>[0.00600396755, 0.000106331331, 0.0786952101, ...</td>\n",
              "      <td>[0.00299987572, 4.56235128e-05, 0.0373298807, ...</td>\n",
              "      <td>[0.00332386337, 7.97875015e-05, 0.0923243772, ...</td>\n",
              "      <td>[0.00247382738, 7.88235222e-05, 0.0769806037, ...</td>\n",
              "      <td>[0.00413778875, 4.18237756e-05, 0.0702316813, ...</td>\n",
              "      <td>[0.00203907689, 6.00981836e-05, 0.134811966, 3...</td>\n",
              "      <td>[0.00162684964, 6.82476119e-05, 0.0332475751, ...</td>\n",
              "      <td>[0.00599938896, 9.69334908e-05, 0.110361752, 3...</td>\n",
              "      <td>[0.00569509502, 5.64401449e-05, 0.100098727, 2...</td>\n",
              "      <td>[0.00507237641, 6.7520186e-05, 0.298811918, 4....</td>\n",
              "      <td>[0.00360417974, 2.33507301e-05, 0.104702221, 2...</td>\n",
              "      <td>[0.0070928612, 8.44453985e-05, 0.214832013, 4....</td>\n",
              "      <td>[0.00653385006, 0.000110763907, 0.339983635, 7...</td>\n",
              "      <td>[0.00648289734, 1.6426916e-05, 0.0248380421, 4...</td>\n",
              "      <td>[0.0051245224, 2.2078595e-05, 0.0725720519, 2....</td>\n",
              "      <td>[0.00839844523, 2.12463728e-05, 0.0960732123, ...</td>\n",
              "      <td>[0.00903609893, 5.58914546e-05, 0.0829004921, ...</td>\n",
              "      <td>[0.0040249291, 7.24611032e-06, 0.0269170725, 2...</td>\n",
              "      <td>[0.00475777346, 1.38138971e-05, 0.169538698, 1...</td>\n",
              "      <td>[0.00350665553, 2.03824783e-05, 0.0278303099, ...</td>\n",
              "      <td>[0.00553914174, 5.91461929e-05, 0.0565104892, ...</td>\n",
              "      <td>8.27</td>\n",
              "      <td>3.92</td>\n",
              "      <td>7.00</td>\n",
              "      <td>8.03</td>\n",
              "    </tr>\n",
              "    <tr>\n",
              "      <th>4</th>\n",
              "      <td>[0.0138996116, 9.95224264e-05, 0.062934261, 8....</td>\n",
              "      <td>[0.0139865221, 0.000116103003, 0.0896734675, 9...</td>\n",
              "      <td>[0.0189787403, 0.000140558284, 0.0909256603, 9...</td>\n",
              "      <td>[0.0117216602, 8.68958088e-05, 0.0484849306, 7...</td>\n",
              "      <td>[0.0152965058, 0.000176923792, 0.0615238055, 3...</td>\n",
              "      <td>[0.0116272117, 0.000100050698, 0.310323198, 5....</td>\n",
              "      <td>[0.0274287415, 0.000209277945, 0.0827718352, 4...</td>\n",
              "      <td>[0.00196829262, 7.02568389e-05, 0.100637227, 2...</td>\n",
              "      <td>[0.00474884446, 3.85548144e-05, 0.0436626447, ...</td>\n",
              "      <td>[0.00414925785, 3.29440202e-05, 0.129007516, 4...</td>\n",
              "      <td>[0.00812455772, 0.000164234881, 0.0135254048, ...</td>\n",
              "      <td>[0.00541081966, 5.02977739e-05, 0.122736536, 3...</td>\n",
              "      <td>[0.00661410298, 9.35559701e-05, 0.10687729, 3....</td>\n",
              "      <td>[0.00665389051, 0.000102056185, 0.150248167, 6...</td>\n",
              "      <td>[0.00573761487, 0.000112761507, 0.15903919, 8....</td>\n",
              "      <td>[0.00260648319, 3.77063101e-05, 0.0412744651, ...</td>\n",
              "      <td>[0.00765239912, 0.000209275266, 0.03367157, 7....</td>\n",
              "      <td>[0.0149130423, 0.000118984398, 0.0781161264, 3...</td>\n",
              "      <td>[0.0128565404, 9.15911622e-05, 0.11369779, 5.2...</td>\n",
              "      <td>[0.0085608604, 0.000188940528, 0.0209319915, 8...</td>\n",
              "      <td>[0.00540738569, 0.000114214842, 0.0743951758, ...</td>\n",
              "      <td>[0.0116165009, 0.000197580994, 0.100815823, 6....</td>\n",
              "      <td>[0.0131667238, 7.89732661e-05, 0.0402748033, 1...</td>\n",
              "      <td>[0.00241392744, 2.27502837e-05, 0.187337123, 4...</td>\n",
              "      <td>[0.00321150105, 0.000137156398, 0.0325501856, ...</td>\n",
              "      <td>[0.0258869824, 0.00016702004, 0.0618117599, 4....</td>\n",
              "      <td>[0.0117428566, 9.06793483e-05, 0.0261006326, 3...</td>\n",
              "      <td>[0.0024461105, 2.49721634e-05, 0.0320319289, 3...</td>\n",
              "      <td>[0.0203616033, 0.000245568652, 0.0042990082, 5...</td>\n",
              "      <td>[0.00894404774, 5.1411018e-05, 0.0897426761, 4...</td>\n",
              "      <td>[0.0119052944, 0.000118096171, 0.0146195033, 7...</td>\n",
              "      <td>[0.00503079105, 8.15403369e-05, 0.0607661059, ...</td>\n",
              "      <td>1.99</td>\n",
              "      <td>4.86</td>\n",
              "      <td>2.04</td>\n",
              "      <td>7.09</td>\n",
              "    </tr>\n",
              "    <tr>\n",
              "      <th>...</th>\n",
              "      <td>...</td>\n",
              "      <td>...</td>\n",
              "      <td>...</td>\n",
              "      <td>...</td>\n",
              "      <td>...</td>\n",
              "      <td>...</td>\n",
              "      <td>...</td>\n",
              "      <td>...</td>\n",
              "      <td>...</td>\n",
              "      <td>...</td>\n",
              "      <td>...</td>\n",
              "      <td>...</td>\n",
              "      <td>...</td>\n",
              "      <td>...</td>\n",
              "      <td>...</td>\n",
              "      <td>...</td>\n",
              "      <td>...</td>\n",
              "      <td>...</td>\n",
              "      <td>...</td>\n",
              "      <td>...</td>\n",
              "      <td>...</td>\n",
              "      <td>...</td>\n",
              "      <td>...</td>\n",
              "      <td>...</td>\n",
              "      <td>...</td>\n",
              "      <td>...</td>\n",
              "      <td>...</td>\n",
              "      <td>...</td>\n",
              "      <td>...</td>\n",
              "      <td>...</td>\n",
              "      <td>...</td>\n",
              "      <td>...</td>\n",
              "      <td>...</td>\n",
              "      <td>...</td>\n",
              "      <td>...</td>\n",
              "      <td>...</td>\n",
              "    </tr>\n",
              "    <tr>\n",
              "      <th>260</th>\n",
              "      <td>[0.0129940834, 0.000125309567, 0.110547277, 8....</td>\n",
              "      <td>[0.0201349177, 9.15158013e-05, 0.0541855621, 1...</td>\n",
              "      <td>[0.00899841369, 3.08038174e-05, 0.0165744353, ...</td>\n",
              "      <td>[0.00285010223, 8.70953055e-05, 0.054319687, 6...</td>\n",
              "      <td>[0.00938370671, 5.34697109e-05, 0.041194756, 7...</td>\n",
              "      <td>[0.00438142575, 0.000138765985, 0.128864415, 8...</td>\n",
              "      <td>[0.00835972039, 3.90571668e-05, 0.0218106108, ...</td>\n",
              "      <td>[0.00293821658, 0.000126403499, 0.0600688342, ...</td>\n",
              "      <td>[0.00735092047, 3.53752705e-05, 0.0666970232, ...</td>\n",
              "      <td>[0.00381294553, 8.6091644e-05, 0.0770295267, 7...</td>\n",
              "      <td>[0.00311995243, 8.31698403e-05, 0.0593540571, ...</td>\n",
              "      <td>[0.00375714799, 0.000119291771, 0.081081176, 9...</td>\n",
              "      <td>[0.00662604752, 0.000129175521, 0.0863988436, ...</td>\n",
              "      <td>[0.00503281789, 7.89768628e-06, 0.0230351346, ...</td>\n",
              "      <td>[0.011002038, 4.96930074e-05, 0.0166064518, 7....</td>\n",
              "      <td>[0.00678395382, 0.000110161507, 0.0711928516, ...</td>\n",
              "      <td>[0.00955456222, 9.13054859e-05, 0.081151289, 1...</td>\n",
              "      <td>[0.00726100794, 0.000201367653, 0.134373701, 8...</td>\n",
              "      <td>[0.0167759133, 0.000140847872, 0.0352378249, 1...</td>\n",
              "      <td>[0.00820203187, 0.000154293215, 0.102039447, 7...</td>\n",
              "      <td>[0.00653704395, 0.000178379444, 0.0921437469, ...</td>\n",
              "      <td>[0.00355559776, 1.96681041e-05, 0.0131885415, ...</td>\n",
              "      <td>[0.00549795204, 0.000126359129, 0.107693378, 9...</td>\n",
              "      <td>[0.00459097447, 8.18890577e-05, 0.0595959141, ...</td>\n",
              "      <td>[0.00328164714, 3.3307093e-05, 0.0281859, 4.83...</td>\n",
              "      <td>[0.0144216451, 0.000184109327, 0.160593915, 9....</td>\n",
              "      <td>[0.00542987257, 3.94863733e-05, 0.0202142264, ...</td>\n",
              "      <td>[0.00694891842, 0.000214935814, 0.283043239, 9...</td>\n",
              "      <td>[0.0259332493, 0.000114555685, 0.167206492, 6....</td>\n",
              "      <td>[0.0179245708, 0.000180867319, 0.109357977, 10...</td>\n",
              "      <td>[0.00277704611, 2.50334711e-05, 0.0443245597, ...</td>\n",
              "      <td>[0.0120926051, 7.26990749e-05, 0.0408161103, 5...</td>\n",
              "      <td>4.06</td>\n",
              "      <td>2.91</td>\n",
              "      <td>2.92</td>\n",
              "      <td>2.04</td>\n",
              "    </tr>\n",
              "    <tr>\n",
              "      <th>261</th>\n",
              "      <td>[0.0514892291, 0.000327803954, 0.356657797, 19...</td>\n",
              "      <td>[0.0789772261, 0.000336009804, 0.458268198, 21...</td>\n",
              "      <td>[0.0501905318, 0.000319308939, 0.273876192, 15...</td>\n",
              "      <td>[0.0724359211, 0.000282713655, 0.148795981, 12...</td>\n",
              "      <td>[0.0115528006, 6.06094026e-05, 0.0991347485, 6...</td>\n",
              "      <td>[0.0272261474, 7.65198714e-05, 0.100096214, 8....</td>\n",
              "      <td>[0.0176101342, 0.000189201705, 0.130928411, 9....</td>\n",
              "      <td>[0.0517267756, 0.000162699952, 0.537679213, 15...</td>\n",
              "      <td>[0.0619518387, 0.000224163881, 0.135432196, 11...</td>\n",
              "      <td>[0.012177208, 0.000103719157, 0.093735027, 3.9...</td>\n",
              "      <td>[0.0499659523, 0.000161840247, 0.432433404, 12...</td>\n",
              "      <td>[0.0552639845, 0.000209014844, 0.141795693, 10...</td>\n",
              "      <td>[0.0293209086, 0.000130636222, 0.404190166, 13...</td>\n",
              "      <td>[0.0319798515, 0.000122915753, 0.0867588634, 7...</td>\n",
              "      <td>[0.0722884639, 0.000313688933, 0.306802461, 15...</td>\n",
              "      <td>[0.074125672, 0.000286228318, 0.126525454, 12....</td>\n",
              "      <td>[0.0163882086, 0.000130717688, 0.189330521, 7....</td>\n",
              "      <td>[0.084185829, 0.000279225092, 0.354342808, 18....</td>\n",
              "      <td>[0.00992980051, 0.000135238588, 0.148525091, 6...</td>\n",
              "      <td>[0.101425529, 0.000338257802, 0.463839011, 18....</td>\n",
              "      <td>[0.0767577758, 0.000253264395, 0.172307351, 11...</td>\n",
              "      <td>[0.0381335991, 0.0001637924, 0.0501856478, 8.8...</td>\n",
              "      <td>[0.0271373241, 8.21871362e-05, 0.313681275, 10...</td>\n",
              "      <td>[0.0141216056, 7.43143236e-05, 0.861609166, 9....</td>\n",
              "      <td>[0.00858530101, 5.40783793e-05, 0.364083109, 8...</td>\n",
              "      <td>[0.0294940724, 9.54030604e-05, 0.0448003262, 8...</td>\n",
              "      <td>[0.0593208311, 0.000270400659, 0.132899441, 13...</td>\n",
              "      <td>[0.0630690053, 0.000305719378, 0.212180892, 17...</td>\n",
              "      <td>[0.0142492979, 4.15440421e-05, 0.254756148, 3....</td>\n",
              "      <td>[0.0225743065, 0.000159560396, 0.513583362, 15...</td>\n",
              "      <td>[0.0437769482, 7.08279342e-05, 0.329044935, 8....</td>\n",
              "      <td>[0.0722498613, 0.000311372903, 0.175826408, 14...</td>\n",
              "      <td>3.04</td>\n",
              "      <td>6.08</td>\n",
              "      <td>1.97</td>\n",
              "      <td>1.94</td>\n",
              "    </tr>\n",
              "    <tr>\n",
              "      <th>262</th>\n",
              "      <td>[0.0152851794, 5.78538124e-05, 0.0567774162, 1...</td>\n",
              "      <td>[0.0129677914, 5.50268723e-05, 0.175453149, 16...</td>\n",
              "      <td>[0.00813779889, 4.3051751e-05, 0.0735709349, 6...</td>\n",
              "      <td>[0.00927129253, 0.000123092705, 0.255038063, 8...</td>\n",
              "      <td>[0.00547275137, 7.83204451e-05, 0.327082249, 4...</td>\n",
              "      <td>[0.00959533484, 0.000118669103, 0.0831368287, ...</td>\n",
              "      <td>[0.00511129023, 8.72364077e-05, 0.29258261, 3....</td>\n",
              "      <td>[0.0162316849, 0.000176999962, 0.221821945, 14...</td>\n",
              "      <td>[0.00450834776, 0.000110464096, 0.421506091, 5...</td>\n",
              "      <td>[0.0122481626, 6.1392627e-05, 0.115500799, 2.9...</td>\n",
              "      <td>[0.0159440758, 0.000242048147, 0.195205221, 17...</td>\n",
              "      <td>[0.0122173468, 0.000173669298, 0.383525795, 9....</td>\n",
              "      <td>[0.00943110699, 0.000101974066, 0.200996647, 9...</td>\n",
              "      <td>[0.00694549069, 0.000155841727, 0.435215444, 4...</td>\n",
              "      <td>[0.0108522704, 5.5329223e-05, 0.12389101, 12.9...</td>\n",
              "      <td>[0.007839512, 0.000116775929, 0.480404465, 7.2...</td>\n",
              "      <td>[0.0127074131, 9.12814485e-05, 0.328329348, 3....</td>\n",
              "      <td>[0.0138752038, 0.000178842626, 0.335339631, 16...</td>\n",
              "      <td>[0.00785027692, 7.29991189e-05, 0.121982863, 6...</td>\n",
              "      <td>[0.0175315628, 0.000171532485, 0.46793174, 18....</td>\n",
              "      <td>[0.0101722077, 0.000106473754, 0.403869741, 9....</td>\n",
              "      <td>[0.00612026262, 8.91333519e-05, 0.346994406, 4...</td>\n",
              "      <td>[0.00993565085, 9.36027841e-05, 0.0528186796, ...</td>\n",
              "      <td>[0.00863210755, 0.000132515185, 0.260905553, 1...</td>\n",
              "      <td>[0.00894291945, 0.000146618628, 0.259391408, 8...</td>\n",
              "      <td>[0.00461089684, 2.8407342e-05, 0.0681189254, 3...</td>\n",
              "      <td>[0.00659463214, 0.000113872097, 0.368427573, 7...</td>\n",
              "      <td>[0.0203855965, 7.02424238e-05, 0.0236884494, 1...</td>\n",
              "      <td>[0.015744799, 0.000288407178, 0.327520506, 13....</td>\n",
              "      <td>[0.017497349, 9.49492507e-05, 0.163597229, 11....</td>\n",
              "      <td>[0.0134443678, 0.000286360521, 0.383692093, 12...</td>\n",
              "      <td>[0.00736343695, 4.58599425e-05, 0.16261375, 6....</td>\n",
              "      <td>3.03</td>\n",
              "      <td>6.00</td>\n",
              "      <td>7.03</td>\n",
              "      <td>1.15</td>\n",
              "    </tr>\n",
              "    <tr>\n",
              "      <th>263</th>\n",
              "      <td>[0.0137296862, 0.000277958455, 0.17990159, 7.1...</td>\n",
              "      <td>[0.0092288377, 0.000383957977, 0.388943871, 10...</td>\n",
              "      <td>[0.0136437805, 0.000116557177, 0.0585210506, 2...</td>\n",
              "      <td>[0.0319961547, 0.000233874292, 0.019587193, 3....</td>\n",
              "      <td>[0.018088814, 0.000179300495, 0.20282562, 3.37...</td>\n",
              "      <td>[0.00175247652, 9.77495815e-05, 0.211347154, 4...</td>\n",
              "      <td>[0.00574038256, 9.79705375e-05, 0.073189041, 3...</td>\n",
              "      <td>[0.00190140967, 0.000131704613, 0.3180076, 3.9...</td>\n",
              "      <td>[0.0251598284, 0.00020499214, 0.140481834, 3.8...</td>\n",
              "      <td>[0.00226939129, 0.000203225346, 0.156388794, 4...</td>\n",
              "      <td>[0.0025740289, 9.94460208e-05, 0.320253619, 4....</td>\n",
              "      <td>[0.0189132739, 0.000123121405, 0.0197722711, 3...</td>\n",
              "      <td>[0.00530575499, 0.000174566034, 0.339048259, 4...</td>\n",
              "      <td>[0.0205997225, 0.000194819452, 0.191834303, 3....</td>\n",
              "      <td>[0.000517805394, 0.000227254874, 0.553389493, ...</td>\n",
              "      <td>[0.0257374973, 0.000189073178, 0.0601132187, 4...</td>\n",
              "      <td>[0.0147082091, 0.000172754417, 0.198004644, 3....</td>\n",
              "      <td>[0.00471000186, 0.000208865618, 0.328497209, 5...</td>\n",
              "      <td>[0.00930061654, 8.24753283e-05, 0.049608442, 3...</td>\n",
              "      <td>[0.0140935363, 0.000263563338, 0.152676186, 7....</td>\n",
              "      <td>[0.0272555489, 0.000170444577, 0.0225915464, 4...</td>\n",
              "      <td>[0.0185604978, 0.000165455397, 0.11608138, 2.6...</td>\n",
              "      <td>[0.00172716841, 0.000114268424, 0.253073342, 4...</td>\n",
              "      <td>[0.0253898747, 0.000145624215, 0.290982304, 4....</td>\n",
              "      <td>[0.0100599161, 0.000150986211, 0.287654866, 3....</td>\n",
              "      <td>[0.00206706534, 7.3138262e-05, 0.0693185498, 4...</td>\n",
              "      <td>[0.0211666729, 0.000164525824, 0.0353255115, 2...</td>\n",
              "      <td>[0.00505406316, 0.00024008478, 0.352722598, 7....</td>\n",
              "      <td>[0.0137867307, 0.000147126587, 0.120454478, 9....</td>\n",
              "      <td>[0.00971299075, 0.000154191551, 0.353632526, 5...</td>\n",
              "      <td>[0.00649821397, 0.000105160927, 0.0962620833, ...</td>\n",
              "      <td>[0.0101708103, 0.000102603948, 0.0809275292, 4...</td>\n",
              "      <td>6.09</td>\n",
              "      <td>6.77</td>\n",
              "      <td>7.29</td>\n",
              "      <td>3.18</td>\n",
              "    </tr>\n",
              "    <tr>\n",
              "      <th>264</th>\n",
              "      <td>[0.0105389232, 1.83904746e-05, 0.00815295187, ...</td>\n",
              "      <td>[0.00321677075, 0.000110657704, 0.0788465639, ...</td>\n",
              "      <td>[0.0229108572, 0.000116100621, 0.149998122, 12...</td>\n",
              "      <td>[0.0404132415, 0.000166302098, 0.0749342561, 8...</td>\n",
              "      <td>[0.0475461896, 0.000321268756, 0.128072951, 7....</td>\n",
              "      <td>[0.0147377998, 0.000276268411, 0.444440751, 11...</td>\n",
              "      <td>[0.0186257736, 5.50553724e-05, 0.0263249109, 5...</td>\n",
              "      <td>[0.0161319142, 0.000205734845, 0.224809641, 12...</td>\n",
              "      <td>[0.0423220739, 0.000177729306, 0.0535868537, 1...</td>\n",
              "      <td>[0.0126586317, 6.98841762e-05, 0.144638696, 3....</td>\n",
              "      <td>[0.0375042925, 0.000125472766, 0.157866911, 12...</td>\n",
              "      <td>[0.0496797114, 0.00017377642, 0.13474851, 11.4...</td>\n",
              "      <td>[0.0125564825, 0.000270785866, 0.209662257, 8....</td>\n",
              "      <td>[0.0613364876, 0.000279243533, 0.079192406, 9....</td>\n",
              "      <td>[0.0018202251, 9.50485685e-05, 0.0447659466, 1...</td>\n",
              "      <td>[0.0524633387, 0.00020749218, 0.0872154472, 10...</td>\n",
              "      <td>[0.0533777037, 0.000352839278, 0.160750071, 12...</td>\n",
              "      <td>[0.007145527, 0.00019491714, 0.228127773, 11.9...</td>\n",
              "      <td>[0.020502582, 0.000246995534, 0.230654282, 7.2...</td>\n",
              "      <td>[0.0154628061, 0.000165069278, 0.179471429, 13...</td>\n",
              "      <td>[0.048255488, 0.000280828075, 0.189563147, 12....</td>\n",
              "      <td>[0.0595457903, 0.000294968844, 0.127134658, 9....</td>\n",
              "      <td>[0.0152504583, 9.7320753e-05, 0.226657721, 5.8...</td>\n",
              "      <td>[0.00813433431, 0.00017230696, 0.143023357, 6....</td>\n",
              "      <td>[0.021161672, 0.000329154383, 0.29597657, 10.2...</td>\n",
              "      <td>[0.00484608374, 0.00017406582, 0.357534841, 7....</td>\n",
              "      <td>[0.056552723, 0.000170196677, 0.0727172601, 8....</td>\n",
              "      <td>[0.0087337642, 7.13191132e-05, 0.180225302, 6....</td>\n",
              "      <td>[0.0447302805, 0.000220199368, 0.118316838, 14...</td>\n",
              "      <td>[0.0149773461, 0.000296475869, 0.177158855, 6....</td>\n",
              "      <td>[0.0491147619, 0.00012572289, 0.0853857929, 13...</td>\n",
              "      <td>[0.0209685553, 0.000104231268, 0.0453478396, 9...</td>\n",
              "      <td>3.99</td>\n",
              "      <td>5.77</td>\n",
              "      <td>6.96</td>\n",
              "      <td>1.94</td>\n",
              "    </tr>\n",
              "  </tbody>\n",
              "</table>\n",
              "<p>265 rows × 36 columns</p>\n",
              "</div>"
            ],
            "text/plain": [
              "                                                   Fp1  ... Liking\n",
              "0    [0.00557249325, 0.000200506207, 0.140677611, 8...  ...   7.83\n",
              "1    [0.00180417486, 1.46540967e-05, 0.0213307629, ...  ...   8.47\n",
              "2    [0.00362454712, 2.62833574e-05, 0.052307487, 3...  ...   7.08\n",
              "3    [0.00357029108, 2.30702258e-05, 0.0340192819, ...  ...   8.03\n",
              "4    [0.0138996116, 9.95224264e-05, 0.062934261, 8....  ...   7.09\n",
              "..                                                 ...  ...    ...\n",
              "260  [0.0129940834, 0.000125309567, 0.110547277, 8....  ...   2.04\n",
              "261  [0.0514892291, 0.000327803954, 0.356657797, 19...  ...   1.94\n",
              "262  [0.0152851794, 5.78538124e-05, 0.0567774162, 1...  ...   1.15\n",
              "263  [0.0137296862, 0.000277958455, 0.17990159, 7.1...  ...   3.18\n",
              "264  [0.0105389232, 1.83904746e-05, 0.00815295187, ...  ...   1.94\n",
              "\n",
              "[265 rows x 36 columns]"
            ]
          },
          "metadata": {
            "tags": []
          },
          "execution_count": 37
        }
      ]
    },
    {
      "cell_type": "code",
      "metadata": {
        "id": "v0tIO0xt7ara",
        "colab_type": "code",
        "colab": {}
      },
      "source": [
        "flatten = lambda l: [item for sublist in l for item in sublist]\n",
        "\n",
        "X=[]\n",
        "Y=[]\n",
        "Label=0\n",
        "\n",
        "for i in range(len(EEG_df)):\n",
        "  X.append(flatten(list(EEG_df.iloc[i,:-4])))\n",
        "  Y.extend(list(EEG_df.iloc[i,-4+Label:-4+(Label+1)]))\n"
      ],
      "execution_count": null,
      "outputs": []
    },
    {
      "cell_type": "code",
      "metadata": {
        "id": "ocQH5TlSFL_D",
        "colab_type": "code",
        "colab": {}
      },
      "source": [
        "X_train, X_test, Y_train, Y_test=train_test_split(X,Y,test_size=0.3,random_state=42)\n"
      ],
      "execution_count": null,
      "outputs": []
    },
    {
      "cell_type": "code",
      "metadata": {
        "id": "k9VLNyXysYtD",
        "colab_type": "code",
        "colab": {}
      },
      "source": [
        "# Maybe try GPUs instead? \n",
        "# Change the number of layers, activation or outputs? \n",
        "# Save weights and biases. \n",
        "# Add both Dropout and L2 Regularization (https://keras.io/api/layers/regularizers/, https://keras.io/api/layers/regularization_layers/dropout/) every layer.\n",
        "# Maybe not, once we get low loss\n",
        "def create_model():\n",
        "  model=keras.Sequential()\n",
        "\n",
        "  model.add(keras.Input(shape=((51*32),)))\n",
        "  # model.add(keras.Input(shape=((77*32),)))\n",
        "\n",
        "# MAE=1.8-- Optimizer='Adam', Layers =50, Outputs=1280, activation='relu'\n",
        "  for _ in range(50):\n",
        "    # model.add(layers.Conv1D(1280,5,activation='relu',use_bias=True))\n",
        "    # model.add(layers.MaxPool1D(1280*2))\n",
        "    model.add(layers.Dense(1280,activation='relu',use_bias=True))\n",
        "\n",
        "  model.add(layers.Dense(1))\n",
        "\n",
        "  model.compile(optimizer='Adam', loss='MAE', metrics=['mean_absolute_error'])\n",
        "\n",
        "  return model\n",
        "# Make a saliency map-- for any input, find the input that is closest to that output and tr\n",
        "with tpu_strategy.scope():\n",
        "  model=create_model()"
      ],
      "execution_count": null,
      "outputs": []
    },
    {
      "cell_type": "code",
      "metadata": {
        "id": "j9F2NSYxF5EA",
        "colab_type": "code",
        "colab": {
          "base_uri": "https://localhost:8080/",
          "height": 1000
        },
        "outputId": "194551c0-511a-4db1-c69e-1ac2d2509c94"
      },
      "source": [
        "history=model.fit(X_train,Y_train,batch_size=32,epochs=100,verbose=2,validation_data=(X_test,Y_test))"
      ],
      "execution_count": null,
      "outputs": [
        {
          "output_type": "stream",
          "text": [
            "Epoch 1/100\n",
            "WARNING:tensorflow:Callbacks method `on_train_batch_end` is slow compared to the batch time (batch time: 0.0050s vs `on_train_batch_end` time: 0.0436s). Check your callbacks.\n"
          ],
          "name": "stdout"
        },
        {
          "output_type": "stream",
          "text": [
            "WARNING:tensorflow:Callbacks method `on_train_batch_end` is slow compared to the batch time (batch time: 0.0050s vs `on_train_batch_end` time: 0.0436s). Check your callbacks.\n"
          ],
          "name": "stderr"
        },
        {
          "output_type": "stream",
          "text": [
            "WARNING:tensorflow:Callbacks method `on_test_batch_end` is slow compared to the batch time (batch time: 0.0027s vs `on_test_batch_end` time: 0.0187s). Check your callbacks.\n"
          ],
          "name": "stdout"
        },
        {
          "output_type": "stream",
          "text": [
            "WARNING:tensorflow:Callbacks method `on_test_batch_end` is slow compared to the batch time (batch time: 0.0027s vs `on_test_batch_end` time: 0.0187s). Check your callbacks.\n"
          ],
          "name": "stderr"
        },
        {
          "output_type": "stream",
          "text": [
            "6/6 - 9s - loss: 109.5000 - mean_absolute_error: 109.5000 - val_loss: 5.0037 - val_mean_absolute_error: 5.0037\n",
            "Epoch 2/100\n",
            "6/6 - 1s - loss: 5.2125 - mean_absolute_error: 5.2125 - val_loss: 5.2720 - val_mean_absolute_error: 5.2720\n",
            "Epoch 3/100\n",
            "6/6 - 1s - loss: 5.0846 - mean_absolute_error: 5.0846 - val_loss: 22.4048 - val_mean_absolute_error: 22.4048\n",
            "Epoch 4/100\n",
            "6/6 - 1s - loss: 7.9300 - mean_absolute_error: 7.9300 - val_loss: 5.0198 - val_mean_absolute_error: 5.0198\n",
            "Epoch 5/100\n",
            "6/6 - 1s - loss: 4.9642 - mean_absolute_error: 4.9642 - val_loss: 4.8504 - val_mean_absolute_error: 4.8504\n",
            "Epoch 6/100\n",
            "6/6 - 1s - loss: 4.5152 - mean_absolute_error: 4.5152 - val_loss: 3.1781 - val_mean_absolute_error: 3.1781\n",
            "Epoch 7/100\n",
            "6/6 - 1s - loss: 2.5263 - mean_absolute_error: 2.5263 - val_loss: 2.4338 - val_mean_absolute_error: 2.4338\n",
            "Epoch 8/100\n",
            "6/6 - 2s - loss: 2.1061 - mean_absolute_error: 2.1061 - val_loss: 1.8640 - val_mean_absolute_error: 1.8640\n",
            "Epoch 9/100\n",
            "6/6 - 1s - loss: 1.9004 - mean_absolute_error: 1.9004 - val_loss: 1.8571 - val_mean_absolute_error: 1.8571\n",
            "Epoch 10/100\n",
            "6/6 - 1s - loss: 1.8653 - mean_absolute_error: 1.8653 - val_loss: 1.8715 - val_mean_absolute_error: 1.8715\n",
            "Epoch 11/100\n",
            "6/6 - 1s - loss: 1.8953 - mean_absolute_error: 1.8953 - val_loss: 1.8168 - val_mean_absolute_error: 1.8168\n",
            "Epoch 12/100\n",
            "6/6 - 1s - loss: 1.9386 - mean_absolute_error: 1.9386 - val_loss: 1.8720 - val_mean_absolute_error: 1.8720\n",
            "Epoch 13/100\n",
            "6/6 - 1s - loss: 1.9521 - mean_absolute_error: 1.9521 - val_loss: 1.9250 - val_mean_absolute_error: 1.9250\n",
            "Epoch 14/100\n",
            "6/6 - 1s - loss: 1.8697 - mean_absolute_error: 1.8697 - val_loss: 1.8461 - val_mean_absolute_error: 1.8461\n",
            "Epoch 15/100\n",
            "6/6 - 1s - loss: 1.9184 - mean_absolute_error: 1.9184 - val_loss: 1.8054 - val_mean_absolute_error: 1.8054\n",
            "Epoch 16/100\n",
            "6/6 - 1s - loss: 1.8458 - mean_absolute_error: 1.8458 - val_loss: 1.9141 - val_mean_absolute_error: 1.9141\n",
            "Epoch 17/100\n",
            "6/6 - 1s - loss: 1.8686 - mean_absolute_error: 1.8686 - val_loss: 1.8055 - val_mean_absolute_error: 1.8055\n",
            "Epoch 18/100\n",
            "6/6 - 1s - loss: 1.8481 - mean_absolute_error: 1.8481 - val_loss: 1.8496 - val_mean_absolute_error: 1.8496\n",
            "Epoch 19/100\n",
            "6/6 - 1s - loss: 1.8510 - mean_absolute_error: 1.8510 - val_loss: 1.8055 - val_mean_absolute_error: 1.8055\n",
            "Epoch 20/100\n",
            "6/6 - 1s - loss: 1.8448 - mean_absolute_error: 1.8448 - val_loss: 1.8106 - val_mean_absolute_error: 1.8106\n",
            "Epoch 21/100\n",
            "6/6 - 1s - loss: 1.8560 - mean_absolute_error: 1.8560 - val_loss: 1.8734 - val_mean_absolute_error: 1.8734\n",
            "Epoch 22/100\n",
            "6/6 - 1s - loss: 1.8607 - mean_absolute_error: 1.8607 - val_loss: 1.8334 - val_mean_absolute_error: 1.8334\n",
            "Epoch 23/100\n",
            "6/6 - 1s - loss: 1.9022 - mean_absolute_error: 1.9022 - val_loss: 1.8130 - val_mean_absolute_error: 1.8130\n",
            "Epoch 24/100\n",
            "6/6 - 1s - loss: 1.9346 - mean_absolute_error: 1.9346 - val_loss: 1.9043 - val_mean_absolute_error: 1.9043\n",
            "Epoch 25/100\n",
            "6/6 - 1s - loss: 1.8673 - mean_absolute_error: 1.8673 - val_loss: 1.8581 - val_mean_absolute_error: 1.8581\n",
            "Epoch 26/100\n",
            "6/6 - 1s - loss: 1.8762 - mean_absolute_error: 1.8762 - val_loss: 1.8055 - val_mean_absolute_error: 1.8055\n",
            "Epoch 27/100\n",
            "6/6 - 1s - loss: 1.8726 - mean_absolute_error: 1.8726 - val_loss: 1.8720 - val_mean_absolute_error: 1.8720\n",
            "Epoch 28/100\n",
            "6/6 - 1s - loss: 1.8481 - mean_absolute_error: 1.8481 - val_loss: 1.8103 - val_mean_absolute_error: 1.8103\n",
            "Epoch 29/100\n",
            "6/6 - 1s - loss: 1.8570 - mean_absolute_error: 1.8570 - val_loss: 1.8165 - val_mean_absolute_error: 1.8165\n",
            "Epoch 30/100\n",
            "6/6 - 1s - loss: 1.8418 - mean_absolute_error: 1.8418 - val_loss: 1.8055 - val_mean_absolute_error: 1.8055\n",
            "Epoch 31/100\n",
            "6/6 - 1s - loss: 1.8480 - mean_absolute_error: 1.8480 - val_loss: 1.8305 - val_mean_absolute_error: 1.8305\n",
            "Epoch 32/100\n",
            "6/6 - 1s - loss: 1.8966 - mean_absolute_error: 1.8966 - val_loss: 1.8607 - val_mean_absolute_error: 1.8607\n",
            "Epoch 33/100\n",
            "6/6 - 1s - loss: 1.8477 - mean_absolute_error: 1.8477 - val_loss: 1.8362 - val_mean_absolute_error: 1.8362\n",
            "Epoch 34/100\n",
            "6/6 - 1s - loss: 1.8725 - mean_absolute_error: 1.8725 - val_loss: 1.8075 - val_mean_absolute_error: 1.8075\n",
            "Epoch 35/100\n",
            "6/6 - 1s - loss: 1.8630 - mean_absolute_error: 1.8630 - val_loss: 1.8970 - val_mean_absolute_error: 1.8970\n",
            "Epoch 36/100\n",
            "6/6 - 1s - loss: 1.9000 - mean_absolute_error: 1.9000 - val_loss: 1.8528 - val_mean_absolute_error: 1.8528\n",
            "Epoch 37/100\n",
            "6/6 - 1s - loss: 1.8857 - mean_absolute_error: 1.8857 - val_loss: 1.8245 - val_mean_absolute_error: 1.8245\n",
            "Epoch 38/100\n",
            "6/6 - 1s - loss: 1.9284 - mean_absolute_error: 1.9284 - val_loss: 1.9537 - val_mean_absolute_error: 1.9537\n",
            "Epoch 39/100\n",
            "6/6 - 1s - loss: 1.8338 - mean_absolute_error: 1.8338 - val_loss: 1.9036 - val_mean_absolute_error: 1.9036\n",
            "Epoch 40/100\n",
            "6/6 - 1s - loss: 1.9093 - mean_absolute_error: 1.9093 - val_loss: 1.9247 - val_mean_absolute_error: 1.9247\n",
            "Epoch 41/100\n",
            "6/6 - 1s - loss: 1.8314 - mean_absolute_error: 1.8314 - val_loss: 1.8398 - val_mean_absolute_error: 1.8398\n",
            "Epoch 42/100\n",
            "6/6 - 1s - loss: 1.8562 - mean_absolute_error: 1.8562 - val_loss: 1.8775 - val_mean_absolute_error: 1.8775\n",
            "Epoch 43/100\n",
            "6/6 - 1s - loss: 1.8587 - mean_absolute_error: 1.8587 - val_loss: 1.8055 - val_mean_absolute_error: 1.8055\n",
            "Epoch 44/100\n",
            "6/6 - 1s - loss: 1.8427 - mean_absolute_error: 1.8427 - val_loss: 1.8192 - val_mean_absolute_error: 1.8192\n",
            "Epoch 45/100\n",
            "6/6 - 1s - loss: 1.8481 - mean_absolute_error: 1.8481 - val_loss: 1.8055 - val_mean_absolute_error: 1.8055\n",
            "Epoch 46/100\n",
            "6/6 - 1s - loss: 1.8512 - mean_absolute_error: 1.8512 - val_loss: 1.9064 - val_mean_absolute_error: 1.9064\n",
            "Epoch 47/100\n",
            "6/6 - 1s - loss: 1.8454 - mean_absolute_error: 1.8454 - val_loss: 1.8148 - val_mean_absolute_error: 1.8148\n",
            "Epoch 48/100\n",
            "6/6 - 1s - loss: 1.8482 - mean_absolute_error: 1.8482 - val_loss: 1.8055 - val_mean_absolute_error: 1.8055\n",
            "Epoch 49/100\n",
            "6/6 - 1s - loss: 1.8437 - mean_absolute_error: 1.8437 - val_loss: 1.8170 - val_mean_absolute_error: 1.8170\n",
            "Epoch 50/100\n",
            "6/6 - 1s - loss: 1.8423 - mean_absolute_error: 1.8423 - val_loss: 1.8348 - val_mean_absolute_error: 1.8348\n",
            "Epoch 51/100\n",
            "6/6 - 1s - loss: 1.8475 - mean_absolute_error: 1.8475 - val_loss: 1.8298 - val_mean_absolute_error: 1.8298\n",
            "Epoch 52/100\n",
            "6/6 - 1s - loss: 1.8488 - mean_absolute_error: 1.8488 - val_loss: 1.8552 - val_mean_absolute_error: 1.8552\n",
            "Epoch 53/100\n",
            "6/6 - 1s - loss: 1.8530 - mean_absolute_error: 1.8530 - val_loss: 1.8296 - val_mean_absolute_error: 1.8296\n",
            "Epoch 54/100\n",
            "6/6 - 2s - loss: 1.8915 - mean_absolute_error: 1.8915 - val_loss: 1.8528 - val_mean_absolute_error: 1.8528\n",
            "Epoch 55/100\n",
            "6/6 - 1s - loss: 1.8279 - mean_absolute_error: 1.8279 - val_loss: 1.8500 - val_mean_absolute_error: 1.8500\n",
            "Epoch 56/100\n",
            "6/6 - 1s - loss: 1.8990 - mean_absolute_error: 1.8990 - val_loss: 1.8339 - val_mean_absolute_error: 1.8339\n",
            "Epoch 57/100\n",
            "6/6 - 1s - loss: 1.8550 - mean_absolute_error: 1.8550 - val_loss: 1.9017 - val_mean_absolute_error: 1.9017\n",
            "Epoch 58/100\n",
            "6/6 - 1s - loss: 1.8842 - mean_absolute_error: 1.8842 - val_loss: 1.8088 - val_mean_absolute_error: 1.8088\n",
            "Epoch 59/100\n",
            "6/6 - 1s - loss: 1.8628 - mean_absolute_error: 1.8628 - val_loss: 1.8784 - val_mean_absolute_error: 1.8784\n",
            "Epoch 60/100\n",
            "6/6 - 1s - loss: 1.8544 - mean_absolute_error: 1.8544 - val_loss: 1.8511 - val_mean_absolute_error: 1.8511\n",
            "Epoch 61/100\n",
            "6/6 - 1s - loss: 1.8445 - mean_absolute_error: 1.8445 - val_loss: 1.8062 - val_mean_absolute_error: 1.8062\n",
            "Epoch 62/100\n",
            "6/6 - 1s - loss: 1.8624 - mean_absolute_error: 1.8624 - val_loss: 1.8071 - val_mean_absolute_error: 1.8071\n",
            "Epoch 63/100\n",
            "6/6 - 1s - loss: 1.8902 - mean_absolute_error: 1.8902 - val_loss: 1.8594 - val_mean_absolute_error: 1.8594\n",
            "Epoch 64/100\n",
            "6/6 - 1s - loss: 1.8700 - mean_absolute_error: 1.8700 - val_loss: 1.8055 - val_mean_absolute_error: 1.8055\n",
            "Epoch 65/100\n",
            "6/6 - 1s - loss: 1.8567 - mean_absolute_error: 1.8567 - val_loss: 1.8282 - val_mean_absolute_error: 1.8282\n",
            "Epoch 66/100\n",
            "6/6 - 1s - loss: 1.8496 - mean_absolute_error: 1.8496 - val_loss: 1.8244 - val_mean_absolute_error: 1.8244\n",
            "Epoch 67/100\n",
            "6/6 - 1s - loss: 1.8472 - mean_absolute_error: 1.8472 - val_loss: 1.8513 - val_mean_absolute_error: 1.8513\n",
            "Epoch 68/100\n",
            "6/6 - 1s - loss: 1.8475 - mean_absolute_error: 1.8475 - val_loss: 1.8541 - val_mean_absolute_error: 1.8541\n",
            "Epoch 69/100\n",
            "6/6 - 2s - loss: 1.8441 - mean_absolute_error: 1.8441 - val_loss: 1.8130 - val_mean_absolute_error: 1.8130\n",
            "Epoch 70/100\n",
            "6/6 - 1s - loss: 1.8406 - mean_absolute_error: 1.8406 - val_loss: 1.8056 - val_mean_absolute_error: 1.8056\n",
            "Epoch 71/100\n",
            "6/6 - 1s - loss: 1.8444 - mean_absolute_error: 1.8444 - val_loss: 1.8055 - val_mean_absolute_error: 1.8055\n",
            "Epoch 72/100\n",
            "6/6 - 1s - loss: 1.8851 - mean_absolute_error: 1.8851 - val_loss: 1.8055 - val_mean_absolute_error: 1.8055\n",
            "Epoch 73/100\n",
            "6/6 - 1s - loss: 1.9035 - mean_absolute_error: 1.9035 - val_loss: 1.8223 - val_mean_absolute_error: 1.8223\n",
            "Epoch 74/100\n",
            "6/6 - 1s - loss: 1.8785 - mean_absolute_error: 1.8785 - val_loss: 1.9834 - val_mean_absolute_error: 1.9834\n",
            "Epoch 75/100\n",
            "6/6 - 1s - loss: 1.8946 - mean_absolute_error: 1.8946 - val_loss: 1.8242 - val_mean_absolute_error: 1.8242\n",
            "Epoch 76/100\n",
            "6/6 - 1s - loss: 1.8432 - mean_absolute_error: 1.8432 - val_loss: 1.8056 - val_mean_absolute_error: 1.8056\n",
            "Epoch 77/100\n",
            "6/6 - 1s - loss: 1.8455 - mean_absolute_error: 1.8455 - val_loss: 1.8055 - val_mean_absolute_error: 1.8055\n",
            "Epoch 78/100\n",
            "6/6 - 2s - loss: 1.8524 - mean_absolute_error: 1.8524 - val_loss: 1.8105 - val_mean_absolute_error: 1.8105\n",
            "Epoch 79/100\n",
            "6/6 - 1s - loss: 1.8787 - mean_absolute_error: 1.8787 - val_loss: 1.8110 - val_mean_absolute_error: 1.8110\n",
            "Epoch 80/100\n",
            "6/6 - 1s - loss: 1.8572 - mean_absolute_error: 1.8572 - val_loss: 1.8084 - val_mean_absolute_error: 1.8084\n",
            "Epoch 81/100\n",
            "6/6 - 1s - loss: 1.8686 - mean_absolute_error: 1.8686 - val_loss: 1.8478 - val_mean_absolute_error: 1.8478\n",
            "Epoch 82/100\n",
            "6/6 - 1s - loss: 1.8649 - mean_absolute_error: 1.8649 - val_loss: 1.8057 - val_mean_absolute_error: 1.8057\n",
            "Epoch 83/100\n",
            "6/6 - 1s - loss: 1.8509 - mean_absolute_error: 1.8509 - val_loss: 1.8156 - val_mean_absolute_error: 1.8156\n",
            "Epoch 84/100\n",
            "6/6 - 1s - loss: 1.8508 - mean_absolute_error: 1.8508 - val_loss: 1.8054 - val_mean_absolute_error: 1.8054\n",
            "Epoch 85/100\n",
            "6/6 - 2s - loss: 1.8721 - mean_absolute_error: 1.8721 - val_loss: 1.8796 - val_mean_absolute_error: 1.8796\n",
            "Epoch 86/100\n",
            "6/6 - 1s - loss: 1.8702 - mean_absolute_error: 1.8702 - val_loss: 1.8232 - val_mean_absolute_error: 1.8232\n",
            "Epoch 87/100\n",
            "6/6 - 1s - loss: 1.8759 - mean_absolute_error: 1.8759 - val_loss: 1.8568 - val_mean_absolute_error: 1.8568\n",
            "Epoch 88/100\n",
            "6/6 - 1s - loss: 1.8967 - mean_absolute_error: 1.8967 - val_loss: 1.8056 - val_mean_absolute_error: 1.8056\n",
            "Epoch 89/100\n",
            "6/6 - 1s - loss: 1.8541 - mean_absolute_error: 1.8541 - val_loss: 1.8311 - val_mean_absolute_error: 1.8311\n",
            "Epoch 90/100\n",
            "6/6 - 1s - loss: 1.8518 - mean_absolute_error: 1.8518 - val_loss: 1.8558 - val_mean_absolute_error: 1.8558\n",
            "Epoch 91/100\n",
            "6/6 - 1s - loss: 1.8521 - mean_absolute_error: 1.8521 - val_loss: 1.8445 - val_mean_absolute_error: 1.8445\n",
            "Epoch 92/100\n",
            "6/6 - 1s - loss: 1.8601 - mean_absolute_error: 1.8601 - val_loss: 1.8166 - val_mean_absolute_error: 1.8166\n",
            "Epoch 93/100\n",
            "6/6 - 1s - loss: 1.8550 - mean_absolute_error: 1.8550 - val_loss: 1.8055 - val_mean_absolute_error: 1.8055\n",
            "Epoch 94/100\n",
            "6/6 - 1s - loss: 1.8401 - mean_absolute_error: 1.8401 - val_loss: 1.8062 - val_mean_absolute_error: 1.8062\n",
            "Epoch 95/100\n",
            "6/6 - 1s - loss: 1.8392 - mean_absolute_error: 1.8392 - val_loss: 1.8055 - val_mean_absolute_error: 1.8055\n",
            "Epoch 96/100\n",
            "6/6 - 1s - loss: 1.8409 - mean_absolute_error: 1.8409 - val_loss: 1.8055 - val_mean_absolute_error: 1.8055\n",
            "Epoch 97/100\n",
            "6/6 - 1s - loss: 1.8450 - mean_absolute_error: 1.8450 - val_loss: 1.8151 - val_mean_absolute_error: 1.8151\n",
            "Epoch 98/100\n",
            "6/6 - 1s - loss: 1.8404 - mean_absolute_error: 1.8404 - val_loss: 1.8055 - val_mean_absolute_error: 1.8055\n",
            "Epoch 99/100\n",
            "6/6 - 1s - loss: 1.8756 - mean_absolute_error: 1.8756 - val_loss: 1.8576 - val_mean_absolute_error: 1.8576\n",
            "Epoch 100/100\n",
            "6/6 - 2s - loss: 1.8792 - mean_absolute_error: 1.8792 - val_loss: 1.8532 - val_mean_absolute_error: 1.8532\n"
          ],
          "name": "stdout"
        }
      ]
    },
    {
      "cell_type": "code",
      "metadata": {
        "id": "ua_qZQnJMWUd",
        "colab_type": "code",
        "colab": {
          "base_uri": "https://localhost:8080/",
          "height": 282
        },
        "outputId": "071e2a12-fe40-451a-b1ae-0d13f0a7fcc4"
      },
      "source": [
        "# plt.plot(history.history['mean_absolute_error'],label='Training')\n",
        "plt.plot(history.history['mean_absolute_error'],label='Test')\n",
        "plt.legend()"
      ],
      "execution_count": null,
      "outputs": [
        {
          "output_type": "execute_result",
          "data": {
            "text/plain": [
              "<matplotlib.legend.Legend at 0x7f09ba69ccc0>"
            ]
          },
          "metadata": {
            "tags": []
          },
          "execution_count": 42
        },
        {
          "output_type": "display_data",
          "data": {
            "image/png": "[encoded data removed]",
            "text/plain": [
              "<Figure size 432x288 with 1 Axes>"
            ]
          },
          "metadata": {
            "tags": [],
            "needs_background": "light"
          }
        }
      ]
    },
    {
      "cell_type": "code",
      "metadata": {
        "id": "jUUFds2yKO0m",
        "colab_type": "code",
        "colab": {
          "base_uri": "https://localhost:8080/",
          "height": 34
        },
        "outputId": "005ede6d-3085-42db-9b86-86477356a541"
      },
      "source": [
        "drive.mount('/drive')\n",
        "model.save('/drive/My Drive/Colab Notebooks/EEG_Predict_Model.h5')"
      ],
      "execution_count": null,
      "outputs": [
        {
          "output_type": "stream",
          "text": [
            "Mounted at /drive\n"
          ],
          "name": "stdout"
        }
      ]
    }
  ]
}